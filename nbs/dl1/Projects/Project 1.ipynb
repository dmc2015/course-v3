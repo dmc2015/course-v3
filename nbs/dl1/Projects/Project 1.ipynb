{
 "cells": [
  {
   "cell_type": "code",
   "execution_count": null,
   "metadata": {},
   "outputs": [],
   "source": [
    "%reload_ext autoreload\n",
    "%autoreload 2\n",
    "%matplotlib inline"
   ]
  },
  {
   "cell_type": "code",
   "execution_count": null,
   "metadata": {},
   "outputs": [],
   "source": [
    "from fastai.vision import *\n",
    "from fastai.metrics import error_rate"
   ]
  },
  {
   "cell_type": "code",
   "execution_count": null,
   "metadata": {},
   "outputs": [],
   "source": [
    "bs = 64"
   ]
  },
  {
   "cell_type": "code",
   "execution_count": null,
   "metadata": {},
   "outputs": [],
   "source": [
    "dir(URLs)"
   ]
  },
  {
   "cell_type": "code",
   "execution_count": 7,
   "metadata": {},
   "outputs": [
    {
     "data": {
      "text/plain": [
       "'s3://2020-inkovate-sales-email/dataset-1000.csv'"
      ]
     },
     "execution_count": 7,
     "metadata": {},
     "output_type": "execute_result"
    }
   ],
   "source": [
    "import boto3\n",
    "import pandas as pd\n",
    "from sagemaker import get_execution_role\n",
    "\n",
    "# import zipfile\n",
    "# with zipfile.ZipFile(path_to_zip_file, 'r') as zip_ref:\n",
    "#     zip_ref.extractall(directory_to_extract_to)\n",
    "\n",
    "# role = get_execution_role()\n",
    "# bucket='dmc-data-bucket'\n",
    "# data_key = '433636_840302_bundle_archive.zip'\n",
    "# data_location = 's3://{}/{}'.format(bucket, data_key)\n",
    "# data_location\n",
    "\n",
    "\n",
    "role = get_execution_role()\n",
    "bucket='2020-inkovate-sales-email'\n",
    "data_key = 'dataset-1000.csv'\n",
    "data_location = 's3://{}/{}'.format(bucket, data_key)\n",
    "data_location\n",
    "\n",
    "\n",
    "from zipfile import ZipFile\n",
    "with ZipFile(‘data_location.zip’, ‘r’) as archive:\n",
    "archive.extractall(‘whereyouwant/’)"
   ]
  },
  {
   "cell_type": "code",
   "execution_count": 9,
   "metadata": {},
   "outputs": [
    {
     "data": {
      "text/plain": [
       "'s3://2020-inkovate-sales-email/dataset-1000.csv'"
      ]
     },
     "execution_count": 9,
     "metadata": {},
     "output_type": "execute_result"
    }
   ],
   "source": [
    "data_location"
   ]
  },
  {
   "cell_type": "code",
   "execution_count": null,
   "metadata": {},
   "outputs": [],
   "source": []
  }
 ],
 "metadata": {
  "kernelspec": {
   "display_name": "Python 3",
   "language": "python",
   "name": "fastai"
  },
  "language_info": {
   "codemirror_mode": {
    "name": "ipython",
    "version": 3
   },
   "file_extension": ".py",
   "mimetype": "text/x-python",
   "name": "python",
   "nbconvert_exporter": "python",
   "pygments_lexer": "ipython3",
   "version": "3.6.10"
  }
 },
 "nbformat": 4,
 "nbformat_minor": 4
}
